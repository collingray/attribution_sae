{
 "cells": [
  {
   "cell_type": "code",
   "id": "initial_id",
   "metadata": {
    "collapsed": true,
    "ExecuteTime": {
     "end_time": "2024-06-24T00:22:09.617911Z",
     "start_time": "2024-06-24T00:22:07.480340Z"
    }
   },
   "source": [
    "import torch\n",
    "import wandb\n",
    "from tqdm.notebook import tqdm\n",
    "\n",
    "from grad_buffer import GradBuffer, GradBufferConfig\n",
    "from model import AttributionSAE, AttributionSAEConfig\n",
    "import loss"
   ],
   "outputs": [],
   "execution_count": 1
  },
  {
   "metadata": {
    "ExecuteTime": {
     "end_time": "2024-06-24T00:22:09.621169Z",
     "start_time": "2024-06-24T00:22:09.618940Z"
    }
   },
   "cell_type": "code",
   "source": [
    "%env TOKENIZERS_PARALLELISM=false\n",
    "%env WANDB_SILENT=true"
   ],
   "id": "917c7bae768cd421",
   "outputs": [
    {
     "name": "stdout",
     "output_type": "stream",
     "text": [
      "env: TOKENIZERS_PARALLELISM=false\n",
      "env: WANDB_SILENT=true\n"
     ]
    }
   ],
   "execution_count": 2
  },
  {
   "metadata": {
    "ExecuteTime": {
     "end_time": "2024-06-24T00:22:09.626947Z",
     "start_time": "2024-06-24T00:22:09.621782Z"
    }
   },
   "cell_type": "code",
   "source": [
    "cfg = {\n",
    "    'model_name': 'pythia-70m',\n",
    "    'dataset_name': 'wikitext',\n",
    "    'dataset_split': 'train',\n",
    "    'dataset_config': 'wikitext-103-v1',\n",
    "    'n_dim': 512,\n",
    "    'expansion_factor': 32,\n",
    "    'batch_size': 32,\n",
    "    'total_steps': 10000,\n",
    "    'learning_rate': 1e-4,\n",
    "    'λ': 1e-3,\n",
    "    'α': 1e-3,\n",
    "    'β': 1e-3,\n",
    "    'device': 'mps',\n",
    "    'dtype': 'float32',\n",
    "    'seed': 42\n",
    "}\n",
    "\n",
    "torch.manual_seed(cfg['seed'])"
   ],
   "id": "1c20cf34484c6887",
   "outputs": [
    {
     "data": {
      "text/plain": [
       "<torch._C.Generator at 0x108faf650>"
      ]
     },
     "execution_count": 3,
     "metadata": {},
     "output_type": "execute_result"
    }
   ],
   "execution_count": 3
  },
  {
   "metadata": {
    "ExecuteTime": {
     "end_time": "2024-06-24T00:22:11.918006Z",
     "start_time": "2024-06-24T00:22:09.628019Z"
    }
   },
   "cell_type": "code",
   "source": [
    "wandb.init(\n",
    "    project='AttributionSAE Experiments',\n",
    "    entity='collingray',\n",
    "    name=input(\"Wandb Run Name: \"),\n",
    "    config=cfg,\n",
    ")"
   ],
   "id": "bfe9011b7fc4ff20",
   "outputs": [
    {
     "data": {
      "text/html": [
       "<button onClick=\"this.nextSibling.style.display='block';this.style.display='none';\">Display W&B run</button><iframe src='https://wandb.ai/collingray/AttributionSAE%20Experiments/runs/fy3vutye?jupyter=true' style='border:none;width:100%;height:420px;display:none;'></iframe>"
      ],
      "text/plain": [
       "<wandb.sdk.wandb_run.Run at 0x34f4dd690>"
      ]
     },
     "execution_count": 4,
     "metadata": {},
     "output_type": "execute_result"
    }
   ],
   "execution_count": 4
  },
  {
   "metadata": {
    "ExecuteTime": {
     "end_time": "2024-06-24T00:22:11.920977Z",
     "start_time": "2024-06-24T00:22:11.918784Z"
    }
   },
   "cell_type": "code",
   "source": [
    "buffer_config = GradBufferConfig(\n",
    "    model_name=cfg['model_name'],\n",
    "    layers=list(range(6)),\n",
    "    dataset_name=cfg['dataset_name'],\n",
    "    dataset_split=cfg['dataset_split'],\n",
    "    dataset_config=cfg['dataset_config'],\n",
    "    device=cfg['device'],\n",
    ")"
   ],
   "id": "182a66284fd3e7f4",
   "outputs": [],
   "execution_count": 5
  },
  {
   "metadata": {
    "ExecuteTime": {
     "end_time": "2024-06-24T00:22:29.575036Z",
     "start_time": "2024-06-24T00:22:11.921785Z"
    }
   },
   "cell_type": "code",
   "source": "buffer = GradBuffer(buffer_config)",
   "id": "2d47da2ffce35334",
   "outputs": [
    {
     "name": "stderr",
     "output_type": "stream",
     "text": [
      "/Users/collin/.pyenv/versions/3.11.9/lib/python3.11/site-packages/huggingface_hub/file_download.py:1132: FutureWarning: `resume_download` is deprecated and will be removed in version 1.0.0. Downloads always resume when possible. If you want to force a new download, use `force_download=True`.\n",
      "  warnings.warn(\n",
      "Special tokens have been added in the vocabulary, make sure the associated word embeddings are fine-tuned or trained.\n",
      "Asking to truncate to max_length but no maximum length is provided and the model has no predefined maximum length. Default to no truncation.\n"
     ]
    },
    {
     "name": "stdout",
     "output_type": "stream",
     "text": [
      "Loaded pretrained model pythia-70m into HookedTransformer\n"
     ]
    }
   ],
   "execution_count": 6
  },
  {
   "metadata": {
    "ExecuteTime": {
     "end_time": "2024-06-24T00:22:29.578089Z",
     "start_time": "2024-06-24T00:22:29.575801Z"
    }
   },
   "cell_type": "code",
   "source": [
    "model_config = AttributionSAEConfig(\n",
    "    n_dim=cfg['n_dim'],\n",
    "    m_dim=cfg['n_dim']*cfg['expansion_factor'],\n",
    "    device=cfg['device'],\n",
    "    dtype=cfg['dtype'],\n",
    ")"
   ],
   "id": "35992c3317b59f1c",
   "outputs": [],
   "execution_count": 7
  },
  {
   "metadata": {
    "ExecuteTime": {
     "end_time": "2024-06-24T00:22:29.585845Z",
     "start_time": "2024-06-24T00:22:29.578711Z"
    }
   },
   "cell_type": "code",
   "source": "model = AttributionSAE(model_config)",
   "id": "76c26bd928c2512b",
   "outputs": [],
   "execution_count": 8
  },
  {
   "metadata": {
    "ExecuteTime": {
     "end_time": "2024-06-24T00:22:29.588344Z",
     "start_time": "2024-06-24T00:22:29.586406Z"
    }
   },
   "cell_type": "code",
   "source": "optimizer = torch.optim.Adam(model.parameters(), lr=cfg['learning_rate'])",
   "id": "26f3b6e7c50fea9c",
   "outputs": [],
   "execution_count": 9
  },
  {
   "metadata": {
    "ExecuteTime": {
     "end_time": "2024-06-24T00:38:27.488669Z",
     "start_time": "2024-06-24T00:22:29.589921Z"
    }
   },
   "cell_type": "code",
   "source": [
    "report_interval = 10\n",
    "\n",
    "for step in tqdm(range(cfg['total_steps'])):\n",
    "    optimizer.zero_grad()\n",
    "    x, grad = buffer.next(cfg['batch_size'])\n",
    "    grad = grad.unsqueeze(-2)\n",
    "    y, f = model(x)\n",
    "    \n",
    "    dictionary = model.W_d.weight\n",
    "\n",
    "    reconstruction = loss.reconstruction(x, y)    \n",
    "    act_sparsity = loss.act_sparsity(f)\n",
    "    grad_sparsity = loss.grad_sparsity(f, grad, dictionary)\n",
    "    unexplained = loss.unexplained(x, y, grad)\n",
    "    l0 = (f != 0).sum(-1).float().mean()\n",
    "    fvu = reconstruction / x.var()\n",
    "    \n",
    "    total_loss = reconstruction + cfg['λ']*act_sparsity + cfg['α']*grad_sparsity + cfg['β']*unexplained\n",
    "    \n",
    "    total_loss.backward()\n",
    "    optimizer.step()\n",
    "\n",
    "    if step % report_interval == 0:\n",
    "        wandb.log({\n",
    "            'loss': total_loss.item(),\n",
    "            'reconstruction': reconstruction.item(),\n",
    "            'act_sparsity': act_sparsity.item(),\n",
    "            'grad_sparsity': grad_sparsity.item(),\n",
    "            'unexplained': unexplained.item(),\n",
    "            'l0': l0.item(),\n",
    "            'fvu': fvu.item(),\n",
    "        })\n",
    "\n",
    "        torch.mps.empty_cache()"
   ],
   "id": "43b115a356a2e5",
   "outputs": [
    {
     "data": {
      "text/plain": [
       "  0%|          | 0/10000 [00:00<?, ?it/s]"
      ],
      "application/vnd.jupyter.widget-view+json": {
       "version_major": 2,
       "version_minor": 0,
       "model_id": "13359178cbc145f79c8f474c87978430"
      }
     },
     "metadata": {},
     "output_type": "display_data"
    }
   ],
   "execution_count": 10
  },
  {
   "metadata": {
    "ExecuteTime": {
     "end_time": "2024-06-24T00:38:31.517326Z",
     "start_time": "2024-06-24T00:38:27.489657Z"
    }
   },
   "cell_type": "code",
   "source": "wandb.finish()",
   "id": "a0f3cf41a0d4bd96",
   "outputs": [],
   "execution_count": 11
  },
  {
   "metadata": {
    "ExecuteTime": {
     "end_time": "2024-06-24T00:46:39.512888Z",
     "start_time": "2024-06-24T00:46:39.391349Z"
    }
   },
   "cell_type": "code",
   "source": "model.save('model')",
   "id": "67831d9162d7a3b",
   "outputs": [],
   "execution_count": 25
  },
  {
   "metadata": {},
   "cell_type": "code",
   "outputs": [],
   "execution_count": null,
   "source": "",
   "id": "740152d3e0ef6620"
  }
 ],
 "metadata": {
  "kernelspec": {
   "display_name": "Python 3",
   "language": "python",
   "name": "python3"
  },
  "language_info": {
   "codemirror_mode": {
    "name": "ipython",
    "version": 2
   },
   "file_extension": ".py",
   "mimetype": "text/x-python",
   "name": "python",
   "nbconvert_exporter": "python",
   "pygments_lexer": "ipython2",
   "version": "2.7.6"
  }
 },
 "nbformat": 4,
 "nbformat_minor": 5
}
