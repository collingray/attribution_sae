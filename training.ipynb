{
 "cells": [
  {
   "cell_type": "code",
   "id": "initial_id",
   "metadata": {
    "collapsed": true
   },
   "source": [
    "import torch\n",
    "import wandb\n",
    "from tqdm.notebook import tqdm\n",
    "\n",
    "from grad_buffer import GradBuffer, GradBufferConfig\n",
    "from model import AttributionSAE, AttributionSAEConfig\n",
    "import loss"
   ],
   "outputs": [],
   "execution_count": null
  },
  {
   "metadata": {},
   "cell_type": "code",
   "source": [
    "%env TOKENIZERS_PARALLELISM=false\n",
    "%env WANDB_SILENT=true"
   ],
   "id": "917c7bae768cd421",
   "outputs": [],
   "execution_count": null
  },
  {
   "metadata": {},
   "cell_type": "code",
   "source": [
    "cfg = {\n",
    "    'model_name': 'pythia-70m',\n",
    "    'dataset_name': 'wikitext',\n",
    "    'dataset_split': 'train',\n",
    "    'dataset_config': 'wikitext-103-v1',\n",
    "    'n_dim': 512,\n",
    "    'expansion_factor': 32,\n",
    "    'batch_size': 32,\n",
    "    'total_steps': 10000,\n",
    "    'learning_rate': 1e-4,\n",
    "    'λ': 1e-3,\n",
    "    'α': 1e-3,\n",
    "    'β': 1e-3,\n",
    "    'device': 'mps',\n",
    "    'dtype': torch.float32,\n",
    "    'seed': 42\n",
    "}\n",
    "\n",
    "torch.manual_seed(cfg['seed'])"
   ],
   "id": "1c20cf34484c6887",
   "outputs": [],
   "execution_count": null
  },
  {
   "metadata": {},
   "cell_type": "code",
   "source": [
    "wandb.init(\n",
    "    project='AttributionSAE Experiments',\n",
    "    entity='collingray',\n",
    "    name='meaned loss terms',\n",
    "    config=cfg,\n",
    ")"
   ],
   "id": "bfe9011b7fc4ff20",
   "outputs": [],
   "execution_count": null
  },
  {
   "metadata": {},
   "cell_type": "code",
   "source": [
    "buffer_config = GradBufferConfig(\n",
    "    model_name=cfg['model_name'],\n",
    "    layers=list(range(6)),\n",
    "    dataset_name=cfg['dataset_name'],\n",
    "    dataset_split=cfg['dataset_split'],\n",
    "    dataset_config=cfg['dataset_config'],\n",
    "    device=torch.device(cfg['device']),\n",
    ")"
   ],
   "id": "182a66284fd3e7f4",
   "outputs": [],
   "execution_count": null
  },
  {
   "metadata": {},
   "cell_type": "code",
   "source": "buffer = GradBuffer(buffer_config)",
   "id": "2d47da2ffce35334",
   "outputs": [],
   "execution_count": null
  },
  {
   "metadata": {},
   "cell_type": "code",
   "source": [
    "model_config = AttributionSAEConfig(\n",
    "    n_dim=cfg['n_dim'],\n",
    "    m_dim=cfg['n_dim']*cfg['expansion_factor'],\n",
    "    device=torch.device(cfg['device']),\n",
    "    dtype=cfg['dtype'],\n",
    ")"
   ],
   "id": "35992c3317b59f1c",
   "outputs": [],
   "execution_count": null
  },
  {
   "metadata": {},
   "cell_type": "code",
   "source": "model = AttributionSAE(model_config)",
   "id": "76c26bd928c2512b",
   "outputs": [],
   "execution_count": null
  },
  {
   "metadata": {},
   "cell_type": "code",
   "source": "optimizer = torch.optim.Adam(model.parameters(), lr=cfg['learning_rate'])",
   "id": "26f3b6e7c50fea9c",
   "outputs": [],
   "execution_count": null
  },
  {
   "metadata": {},
   "cell_type": "code",
   "source": [
    "report_interval = 100\n",
    "\n",
    "for step in tqdm(range(cfg['total_steps'])):\n",
    "    optimizer.zero_grad()\n",
    "    x, grad = buffer.next(cfg['batch_size'])\n",
    "    grad = grad.unsqueeze(-2)\n",
    "    y, f = model(x)\n",
    "    \n",
    "    dictionary = model.W_d.weight\n",
    "\n",
    "    reconstruction = loss.reconstruction(x, y)    \n",
    "    act_sparsity = loss.act_sparsity(f)\n",
    "    grad_sparsity = loss.grad_sparsity(f, grad, dictionary)\n",
    "    unexplained = loss.unexplained(x, y, grad)\n",
    "    \n",
    "    total_loss = reconstruction + cfg['λ']*act_sparsity + cfg['α']*grad_sparsity + cfg['β']*unexplained\n",
    "    \n",
    "    total_loss.backward()\n",
    "    optimizer.step()\n",
    "\n",
    "    if step % report_interval == 0:\n",
    "        wandb.log({\n",
    "            'loss': total_loss.item(),\n",
    "            'reconstruction': reconstruction.item(),\n",
    "            'act_sparsity': act_sparsity.item(),\n",
    "            'grad_sparsity': grad_sparsity.item(),\n",
    "            'unexplained': unexplained.item(),\n",
    "        })"
   ],
   "id": "43b115a356a2e5",
   "outputs": [],
   "execution_count": null
  },
  {
   "metadata": {},
   "cell_type": "code",
   "source": "wandb.finish()",
   "id": "a0f3cf41a0d4bd96",
   "outputs": [],
   "execution_count": null
  }
 ],
 "metadata": {
  "kernelspec": {
   "display_name": "Python 3",
   "language": "python",
   "name": "python3"
  },
  "language_info": {
   "codemirror_mode": {
    "name": "ipython",
    "version": 2
   },
   "file_extension": ".py",
   "mimetype": "text/x-python",
   "name": "python",
   "nbconvert_exporter": "python",
   "pygments_lexer": "ipython2",
   "version": "2.7.6"
  }
 },
 "nbformat": 4,
 "nbformat_minor": 5
}
